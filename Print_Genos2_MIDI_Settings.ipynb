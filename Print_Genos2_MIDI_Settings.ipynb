{
  "cells": [
    {
      "cell_type": "markdown",
      "metadata": {
        "id": "I0jpu3w29WIu"
      },
      "source": [
        "# Print Genos2 MIDI Settings\n",
        "*by Michael Trigoboff*  \n",
        "(*version 1.0.0*)\n",
        "\n",
        "\n",
        "## The Problem\n",
        "\n",
        "The Genos2 allows you to have user-edited MIDI \"templates\", each of which specifies MIDI settings for the Genos2. You can view and edit these settings on the Genos touchscreen.\n",
        "\n",
        "It can be useful to make sure you don't have templates that are essentially duplicates of each other. The template viewer is split up into a lot of separate pages, and this can make it extremely difficult to compare two of these MIDI templates and tell how different they may or may not be.\n",
        "\n",
        "## A Solution\n",
        "\n",
        "It occurred to me that I could write code to read in a **.mis** file, and print it out as a text file. This would facilitate looking at all of the settings for each template at once, which would make it much easier to compare templates with each other.\n",
        "\n",
        "This would also allow use of a diff utility like [WinMerge](https://winmerge.org/), which can display two text files side-by-side and hilite the differences between them.\n",
        "\n",
        "I packaged this app as a [Jupyter Notebook](https://en.wikipedia.org/wiki/Project_Jupyter), a very user-friendly way to combine code with the instructions for its use. (This is an example of [literate programming](https://en.wikipedia.org/wiki/Literate_programming), an idea invented quite a few decades ago by Stanford computer science professor [Donald Knuth](https://en.wikipedia.org/wiki/Donald_Knuth).)\n",
        "\n",
        "Below you will see rectangular areas containing code. These are called **code cells**. You can execute the code in a code cell by clicking on the circular symbol that will appear within the square brackets at the top left of the cell when you hover your mouse between them\n",
        "\n",
        "(*See image, which hopefully appears below. I have noticed that occasionally images included in this Jupyter notebook may not appear. If that happens to you, I hope the text descriptions will be explicit enough to enable your successful use of this notebook.*)\n",
        "\n",
        "![how to execute a cell](https://drive.google.com/uc?export=view&id=1jZPkZnCLqtLwKH1fCzIWLu0EAWnYBlJ_)\n",
        "\n",
        "The first code cell is labeled \"set up the software\". Execute that code cell now. You will only need to execute it once. Once you have done that, scroll down to the next code cell.\n"
      ]
    },
    {
      "cell_type": "code",
      "execution_count": null,
      "metadata": {
        "id": "_viz73E0c93p"
      },
      "outputs": [],
      "source": [
        "# set up the software\n",
        "! rm -rf sample_data\n",
        "! rm -rf *.mis\n",
        "! rm -rf genos_midi_settings\n",
        "! git config --global init.defaultBranch main\n",
        "! git config --global advice.detachedHead false\n",
        "! git clone -b Genos2 https://github.com/mtrigoboff/genos_midi_settings\n",
        "! mv genos_midi_settings/print_g2ms.py .\n",
        "! rm -rf genos_midi_settings"
      ]
    },
    {
      "cell_type": "markdown",
      "metadata": {
        "id": "hez7ZWXaDXIE"
      },
      "source": [
        "The cell below (labeled \"print a .mis file\") will allow you to upload a **.mis** file from your computer to this Jupyter notebook. When you execute this code cell, a button will appear labeled \"Choose Files\". Click on it and select the file you want to upload (see image, which hopefully appears below).\n",
        "\n",
        "![choose files button](https://drive.google.com/uc?export=view&id=1Gts2Wp41lYyTy5cudiTWTx9I6LyjvIIp)\n",
        "\n",
        "Once you have done this, scroll down to the next code cell.\n"
      ]
    },
    {
      "cell_type": "code",
      "execution_count": null,
      "metadata": {
        "colab": {
          "background_save": true,
          "base_uri": "https://localhost:8080/"
        },
        "id": "WojvCD4ptGp3",
        "outputId": "1d28461a-5810-4717-9eb3-633e638d0e3e"
      },
      "outputs": [],
      "source": [
        "# upload a .mis file\n",
        "from google.colab import files\n",
        "uploads = files.upload()\n",
        "mis_file_name = list(uploads.keys())[0]\n",
        "print(f'uploaded file: {mis_file_name}')"
      ]
    },
    {
      "cell_type": "markdown",
      "metadata": {
        "id": "845wBOE2Fe2H"
      },
      "source": [
        "The cell below will create the text file rendition of your MIDI settings and download it to your computer.\n",
        "\n",
        "If your **.mis** file was named **xxx.mis**, the text file will be named **xxx.mis.txt**.\n",
        "\n",
        "If you want to print another **.mis** file, execute the second and third code cells in sequence again. You can do this as many times as you like.\n",
        "\n",
        "I hope you find this software useful and enjoy using it.\n",
        "\n",
        "*If you are interested in looking at the code, you can find it in [this GitHub repository](https://github.com/mtrigoboff/genos_midi_settings).*"
      ]
    },
    {
      "cell_type": "code",
      "execution_count": null,
      "metadata": {
        "id": "bF_f6lxNaRRi"
      },
      "outputs": [],
      "source": [
        "# create and download the text file\n",
        "! rm -rf *.txt\n",
        "\n",
        "import print_g2ms\n",
        "txt_file_name = print_g2ms.print_genos2_midi_settings(mis_file_name)\n",
        "files.download(txt_file_name)\n",
        "\n",
        "! rm -rf $mis_file_name $txt_file_name\n"
      ]
    }
  ],
  "metadata": {
    "colab": {
      "authorship_tag": "ABX9TyMRHPgQuYdcsGkLy70QvJGP",
      "provenance": []
    },
    "kernelspec": {
      "display_name": "Python 3",
      "name": "python3"
    },
    "language_info": {
      "name": "python"
    }
  },
  "nbformat": 4,
  "nbformat_minor": 0
}
