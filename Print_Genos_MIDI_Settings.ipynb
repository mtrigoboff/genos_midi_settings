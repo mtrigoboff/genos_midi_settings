{
  "nbformat": 4,
  "nbformat_minor": 0,
  "metadata": {
    "colab": {
      "provenance": [],
      "authorship_tag": "ABX9TyOUdFKzW+TTN537FG9XS+zJ",
      "include_colab_link": true
    },
    "kernelspec": {
      "name": "python3",
      "display_name": "Python 3"
    },
    "language_info": {
      "name": "python"
    }
  },
  "cells": [
    {
      "cell_type": "markdown",
      "metadata": {
        "id": "view-in-github",
        "colab_type": "text"
      },
      "source": [
        "<a href=\"https://colab.research.google.com/github/mtrigoboff/genos_midi_settings/blob/main/Print_Genos_MIDI_Settings.ipynb\" target=\"_parent\"><img src=\"https://colab.research.google.com/assets/colab-badge.svg\" alt=\"Open In Colab\"/></a>"
      ]
    },
    {
      "cell_type": "markdown",
      "source": [
        "# Print Genos MIDI Settings\n",
        "*by [Michael Trigoboff](http://spot.pcc.edu/~mtrigobo/personal/music.html)*  \n",
        "(*version 1.0*)\n",
        "\n",
        "## The Problem\n",
        "\n",
        "The Genos allows you to have up to 10 user-edited MIDI \"templates\", each of which specifies MIDI settings for the Genos. You can view and edit these settings on the Genos touchscreen.\n",
        "\n",
        "Since you can have only 10 user templates at a time, it's important to make sure you don't have templates that are essentially duplicates of each other. The template viewer is split up into a lot of separate pages, and this can make it extremely difficult to compare two of these MIDI templates and tell how different they may or may not be.\n",
        "\n",
        "# A Solution\n",
        "\n",
        "The Genos allows you to save a set of up to 10 MIDI templates in a **.msu** file. You can do it on this Utility page:\n",
        "\n",
        "![Genos utility Setup Files backup page](https://drive.google.com/uc?export=view&id=1Q_G-ITNfeIFzA8mgwGFJOlC29V4lahQs)\n",
        "\n",
        "It occurred to me that I could write code to read in a **.msu** file, and print out each of its MIDI templates as a text file. This would allow someone to look at all of the settings at once for each of the templates, which would make it much easier to compare templates with each other.\n",
        "\n",
        "You can even use a diff utility like [WinMerge](https://winmerge.org/), which can show you two text files side-by-side and hilite the differences between them.\n",
        "\n",
        "I did it as this **Jupyter Notebook**, which is a very user-friendly way to combine code with the instructions for its use. (This is an example of [literate programming](https://en.wikipedia.org/wiki/Literate_programming), an idea invented quite a few decades ago by Stanford computer science professor [Donald Knuth](https://en.wikipedia.org/wiki/Donald_Knuth).)\n",
        "\n",
        "Below you will see rectangular areas containing code. These are called **code cells**. You can execute the code in a code cell by clicking on the circular symbol that will appear in the square brackets at the top left of the cell when you hover your mouse between them (see image below).\n",
        "\n",
        "![how to execute a cell](https://drive.google.com/uc?export=view&id=1jZPkZnCLqtLwKH1fCzIWLu0EAWnYBlJ_)\n",
        "\n",
        "The first code cell is labeled \"set up the software\". Execute that code cell now. You will only need to execute that code cell once. Once you have done that, scroll down to the next code cell.\n"
      ],
      "metadata": {
        "id": "I0jpu3w29WIu"
      }
    },
    {
      "cell_type": "code",
      "execution_count": null,
      "metadata": {
        "id": "_viz73E0c93p"
      },
      "outputs": [],
      "source": [
        "# set up the software\n",
        "! rm -rf sample_data\n",
        "! rm -rf *.msu\n",
        "! rm -rf *.settings\n",
        "! rm -rf *.zip\n",
        "! rm -rf genos_midi_settings\n",
        "! git clone https://github.com/mtrigoboff/genos_midi_settings"
      ]
    },
    {
      "cell_type": "markdown",
      "source": [
        "The cell below (labeled \"upload a .msu file\") will allow you to upload a **.msu** file from your computer to this Jupyter notebook. When you execute this code cell, a button will appear labeled \"Choose Files\". Click on it and select the file you want to upload (see image below).\n",
        "\n",
        "![choose files button](https://drive.google.com/uc?export=view&id=1Gts2Wp41lYyTy5cudiTWTx9I6LyjvIIp)\n",
        "\n",
        "Once you have done this, scroll down to the next code cell.\n"
      ],
      "metadata": {
        "id": "hez7ZWXaDXIE"
      }
    },
    {
      "cell_type": "code",
      "source": [
        "# upload a .msu file\n",
        "from google.colab import files\n",
        "uploads = files.upload()\n",
        "genos_file_name = list(uploads.keys())[0]\n",
        "print(f'uploaded file: {genos_file_name}')"
      ],
      "metadata": {
        "id": "WojvCD4ptGp3"
      },
      "execution_count": null,
      "outputs": []
    },
    {
      "cell_type": "markdown",
      "source": [
        "The cell below will save the results of printing your **.msu** file as a zip file which will expand into a folder containing a text file for each MIDI template defined in your file.\n",
        "\n",
        "If your **.msu** file was named **xxx.msu**, the zip file will be named **xxx.msu.zip**. It will expand into a folder named **xxx.msu.settings**.\n",
        "\n",
        "If your **.msu** file contained three MIDI templates named **t1**, **t2**, and **t3**, the expanded folder will contain three text files named **t1.txt**, **t2.txt**, and **t3.txt**.\n",
        "\n",
        "If you want to print another **.msu** file, execute the second and third code cells in sequence again. You can do this as many times as you like.\n",
        "\n",
        "I hope you find this software useful and enjoy using it."
      ],
      "metadata": {
        "id": "845wBOE2Fe2H"
      }
    },
    {
      "cell_type": "code",
      "source": [
        "# create and download the zip file\n",
        "directory_suffix = '.settings'\n",
        "zip_file_name = genos_file_name + '.zip'\n",
        "settings_directory_name = genos_file_name + directory_suffix\n",
        "\n",
        "! rm -rf *.zip\n",
        "! python genos_midi_settings/print_gms.py $genos_file_name $directory_suffix\n",
        "! zip -r $zip_file_name $settings_directory_name\n",
        "\n",
        "files.download(zip_file_name)\n",
        "\n",
        "! rm -rf $genos_file_name\n",
        "! rm -rf $settings_directory_name"
      ],
      "metadata": {
        "id": "bF_f6lxNaRRi"
      },
      "execution_count": null,
      "outputs": []
    }
  ]
}